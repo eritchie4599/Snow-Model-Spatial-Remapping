{
 "cells": [
  {
   "cell_type": "code",
   "execution_count": 1,
   "id": "2fc129e1",
   "metadata": {},
   "outputs": [
    {
     "ename": "OSError",
     "evalue": "[Errno -101] NetCDF: HDF error: 'scratch/data/swann/nsidc0719_SWE_Snow_Depth_v1/4km_SWE_Depth_WY2015_v01.nc'",
     "output_type": "error",
     "traceback": [
      "\u001b[0;31m---------------------------------------------------------------------------\u001b[0m",
      "\u001b[0;31mOSError\u001b[0m                                   Traceback (most recent call last)",
      "Cell \u001b[0;32mIn[1], line 5\u001b[0m\n\u001b[1;32m      3\u001b[0m \u001b[38;5;66;03m# Open the NetCDF file in append mode\u001b[39;00m\n\u001b[1;32m      4\u001b[0m file_path \u001b[38;5;241m=\u001b[39m \u001b[38;5;124m'\u001b[39m\u001b[38;5;124mscratch/data/swann/nsidc0719_SWE_Snow_Depth_v1/4km_SWE_Depth_WY2015_v01.nc\u001b[39m\u001b[38;5;124m'\u001b[39m  \u001b[38;5;66;03m# Replace with your file path\u001b[39;00m\n\u001b[0;32m----> 5\u001b[0m dataset \u001b[38;5;241m=\u001b[39m \u001b[43mnc\u001b[49m\u001b[38;5;241;43m.\u001b[39;49m\u001b[43mDataset\u001b[49m\u001b[43m(\u001b[49m\u001b[43mfile_path\u001b[49m\u001b[43m,\u001b[49m\u001b[43m \u001b[49m\u001b[38;5;124;43m'\u001b[39;49m\u001b[38;5;124;43ma\u001b[39;49m\u001b[38;5;124;43m'\u001b[39;49m\u001b[43m)\u001b[49m\n\u001b[1;32m      7\u001b[0m \u001b[38;5;66;03m# Add the calendar attribute to the time variable\u001b[39;00m\n\u001b[1;32m      8\u001b[0m time_var \u001b[38;5;241m=\u001b[39m dataset\u001b[38;5;241m.\u001b[39mvariables[\u001b[38;5;124m'\u001b[39m\u001b[38;5;124mtime\u001b[39m\u001b[38;5;124m'\u001b[39m]  \u001b[38;5;66;03m# Replace 'time' with the actual name of your time variable if different\u001b[39;00m\n",
      "File \u001b[0;32msrc/netCDF4/_netCDF4.pyx:2469\u001b[0m, in \u001b[0;36mnetCDF4._netCDF4.Dataset.__init__\u001b[0;34m()\u001b[0m\n",
      "File \u001b[0;32msrc/netCDF4/_netCDF4.pyx:2028\u001b[0m, in \u001b[0;36mnetCDF4._netCDF4._ensure_nc_success\u001b[0;34m()\u001b[0m\n",
      "\u001b[0;31mOSError\u001b[0m: [Errno -101] NetCDF: HDF error: 'scratch/data/swann/nsidc0719_SWE_Snow_Depth_v1/4km_SWE_Depth_WY2015_v01.nc'"
     ]
    }
   ],
   "source": [
    "import netCDF4 as nc\n",
    "\n",
    "# Open the NetCDF file in append mode\n",
    "file_path = 'scratch/data/swann/nsidc0719_SWE_Snow_Depth_v1/4km_SWE_Depth_WY2015_v01.nc'  # Replace with your file path\n",
    "dataset = nc.Dataset(file_path, 'a')\n",
    "\n",
    "# Add the calendar attribute to the time variable\n",
    "time_var = dataset.variables['time']  # Replace 'time' with the actual name of your time variable if different\n",
    "time_var.setncattr('calendar', 'gregorian')\n",
    "\n",
    "# Close the dataset\n",
    "dataset.close()\n",
    "\n",
    "print(f\"Calendar attribute 'gregorian' added to the time variable in {file_path}\")\n"
   ]
  },
  {
   "cell_type": "code",
   "execution_count": 2,
   "id": "2d52ae5f",
   "metadata": {},
   "outputs": [
    {
     "name": "stdout",
     "output_type": "stream",
     "text": [
      "File exists: scratch/data/swann/nsidc0719_SWE_Snow_Depth_v1/4km_SWE_Depth_WY2015_v01.nc\n",
      "File is readable\n",
      "File is writable\n"
     ]
    }
   ],
   "source": [
    "import os\n",
    "\n",
    "file_path = 'scratch/data/swann/nsidc0719_SWE_Snow_Depth_v1/4km_SWE_Depth_WY2015_v01.nc'\n",
    "\n",
    "# Check if the file exists\n",
    "if not os.path.exists(file_path):\n",
    "    print(f\"File does not exist: {file_path}\")\n",
    "else:\n",
    "    print(f\"File exists: {file_path}\")\n",
    "    \n",
    "    # Check file permissions\n",
    "    if os.access(file_path, os.R_OK):\n",
    "        print(\"File is readable\")\n",
    "    else:\n",
    "        print(\"File is not readable\")\n",
    "    \n",
    "    if os.access(file_path, os.W_OK):\n",
    "        print(\"File is writable\")\n",
    "    else:\n",
    "        print(\"File is not writable\")\n"
   ]
  },
  {
   "cell_type": "code",
   "execution_count": 3,
   "id": "f13029a6",
   "metadata": {},
   "outputs": [
    {
     "name": "stdout",
     "output_type": "stream",
     "text": [
      "Successfully opened file in read mode: scratch/data/swann/nsidc0719_SWE_Snow_Depth_v1/4km_SWE_Depth_WY2015_v01.nc\n"
     ]
    }
   ],
   "source": [
    "import netCDF4 as nc\n",
    "\n",
    "file_path = 'scratch/data/swann/nsidc0719_SWE_Snow_Depth_v1/4km_SWE_Depth_WY2015_v01.nc'\n",
    "\n",
    "try:\n",
    "    dataset = nc.Dataset(file_path, 'r')\n",
    "    print(f\"Successfully opened file in read mode: {file_path}\")\n",
    "    dataset.close()\n",
    "except OSError as e:\n",
    "    print(f\"Failed to open file: {e}\")\n"
   ]
  },
  {
   "cell_type": "code",
   "execution_count": 4,
   "id": "72382f6c",
   "metadata": {},
   "outputs": [
    {
     "name": "stdout",
     "output_type": "stream",
     "text": [
      "Failed to open file in append mode: [Errno -101] NetCDF: HDF error: 'scratch/data/swann/nsidc0719_SWE_Snow_Depth_v1/4km_SWE_Depth_WY2015_v01.nc'\n"
     ]
    }
   ],
   "source": [
    "import netCDF4 as nc\n",
    "\n",
    "file_path = 'scratch/data/swann/nsidc0719_SWE_Snow_Depth_v1/4km_SWE_Depth_WY2015_v01.nc'\n",
    "\n",
    "try:\n",
    "    # Open the NetCDF file in append mode\n",
    "    dataset = nc.Dataset(file_path, 'a')\n",
    "    \n",
    "    # Check for the time variable\n",
    "    if 'time' in dataset.variables:\n",
    "        time_var = dataset.variables['time']\n",
    "        # Add the calendar attribute\n",
    "        time_var.setncattr('calendar', 'gregorian')\n",
    "        print(f\"Calendar attribute 'gregorian' added to the time variable in {file_path}\")\n",
    "    else:\n",
    "        print(f\"No 'time' variable found in the file.\")\n",
    "    \n",
    "    # Close the dataset\n",
    "    dataset.close()\n",
    "except OSError as e:\n",
    "    print(f\"Failed to open file in append mode: {e}\")\n",
    "except Exception as e:\n",
    "    print(f\"An error occurred: {e}\")\n"
   ]
  },
  {
   "cell_type": "code",
   "execution_count": null,
   "id": "b384e909",
   "metadata": {},
   "outputs": [],
   "source": [
    "import xarray as xr\n",
    "\n",
    "file_path = 'scratch/data/swann/nsidc0719_SWE_Snow_Depth_v1/4km_SWE_Depth_WY2015_v01.nc'\n",
    "\n",
    "# Open the dataset with xarray\n",
    "ds = xr.open_dataset(file_path, decode_times=False)\n",
    "\n",
    "# Check if 'time' variable exists\n",
    "if 'time' in ds.variables:\n",
    "    # Add the calendar attribute\n",
    "    ds['time'].attrs['calendar'] = 'gregorian'\n",
    "    # Save the dataset to a new file to avoid overwriting\n",
    "    ds.to_netcdf('scratch/data/swann/nsidc0719_SWE_Snow_Depth_v1/4km_SWE_Depth_WY2015_v01_modified.nc')\n",
    "    print(f\"Calendar attribute 'gregorian' added to the time variable in the new file.\")\n",
    "else:\n",
    "    print(f\"No 'time' variable found in the file.\")\n"
   ]
  }
 ],
 "metadata": {
  "kernelspec": {
   "display_name": "easymore-env",
   "language": "python",
   "name": "easymore-env"
  },
  "language_info": {
   "codemirror_mode": {
    "name": "ipython",
    "version": 3
   },
   "file_extension": ".py",
   "mimetype": "text/x-python",
   "name": "python",
   "nbconvert_exporter": "python",
   "pygments_lexer": "ipython3",
   "version": "3.9.19"
  }
 },
 "nbformat": 4,
 "nbformat_minor": 5
}
